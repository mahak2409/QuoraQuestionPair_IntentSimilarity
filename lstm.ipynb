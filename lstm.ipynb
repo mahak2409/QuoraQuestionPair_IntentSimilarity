{
 "cells": [
  {
   "cell_type": "code",
   "execution_count": 1,
   "id": "93a734e8",
   "metadata": {
    "_cell_guid": "b1076dfc-b9ad-4769-8c92-a6c4dae69d19",
    "_uuid": "8f2839f25d086af736a60e9eeb907d3b93b6e0e5",
    "execution": {
     "iopub.execute_input": "2021-12-11T08:15:31.204315Z",
     "iopub.status.busy": "2021-12-11T08:15:31.200021Z",
     "iopub.status.idle": "2021-12-11T08:15:31.233982Z",
     "shell.execute_reply": "2021-12-11T08:15:31.234888Z",
     "shell.execute_reply.started": "2021-12-11T07:45:45.557154Z"
    },
    "papermill": {
     "duration": 0.110948,
     "end_time": "2021-12-11T08:15:31.235360",
     "exception": false,
     "start_time": "2021-12-11T08:15:31.124412",
     "status": "completed"
    },
    "tags": []
   },
   "outputs": [
    {
     "name": "stdout",
     "output_type": "stream",
     "text": [
      "/kaggle/input/quora-question-pairs/train.csv.zip\n",
      "/kaggle/input/quora-question-pairs/sample_submission.csv.zip\n",
      "/kaggle/input/quora-question-pairs/test.csv\n",
      "/kaggle/input/quora-question-pairs/test.csv.zip\n",
      "/kaggle/input/glove6b/glove.6B.200d.txt\n",
      "/kaggle/input/glove6b/glove.6B.50d.txt\n",
      "/kaggle/input/glove6b/glove.6B.300d.txt\n",
      "/kaggle/input/glove6b/glove.6B.100d.txt\n"
     ]
    }
   ],
   "source": [
    "# This Python 3 environment comes with many helpful analytics libraries installed\n",
    "# It is defined by the kaggle/python Docker image: https://github.com/kaggle/docker-python\n",
    "# For example, here's several helpful packages to load\n",
    "\n",
    "import numpy as np # linear algebra\n",
    "import pandas as pd # data processing, CSV file I/O (e.g. pd.read_csv)\n",
    "\n",
    "# Input data files are available in the read-only \"../input/\" directory\n",
    "# For example, running this (by clicking run or pressing Shift+Enter) will list all files under the input directory\n",
    "\n",
    "import os\n",
    "for dirname, _, filenames in os.walk('/kaggle/input'):\n",
    "    for filename in filenames:\n",
    "        print(os.path.join(dirname, filename))\n",
    "\n",
    "# You can write up to 20GB to the current directory (/kaggle/working/) that gets preserved as output when you create a version using \"Save & Run All\" \n",
    "# You can also write temporary files to /kaggle/temp/, but they won't be saved outside of the current session"
   ]
  },
  {
   "cell_type": "code",
   "execution_count": 2,
   "id": "3220ee52",
   "metadata": {
    "execution": {
     "iopub.execute_input": "2021-12-11T08:15:31.339791Z",
     "iopub.status.busy": "2021-12-11T08:15:31.338757Z",
     "iopub.status.idle": "2021-12-11T08:15:33.384887Z",
     "shell.execute_reply": "2021-12-11T08:15:33.384125Z",
     "shell.execute_reply.started": "2021-12-11T07:45:45.597933Z"
    },
    "papermill": {
     "duration": 2.102281,
     "end_time": "2021-12-11T08:15:33.385058",
     "exception": false,
     "start_time": "2021-12-11T08:15:31.282777",
     "status": "completed"
    },
    "tags": []
   },
   "outputs": [
    {
     "name": "stdout",
     "output_type": "stream",
     "text": [
      "Archive:  /kaggle/input/quora-question-pairs/train.csv.zip\r\n",
      "  inflating: train.csv               \r\n"
     ]
    }
   ],
   "source": [
    "!unzip /kaggle/input/quora-question-pairs/train.csv.zip"
   ]
  },
  {
   "cell_type": "code",
   "execution_count": 3,
   "id": "df6a37bc",
   "metadata": {
    "execution": {
     "iopub.execute_input": "2021-12-11T08:15:33.448766Z",
     "iopub.status.busy": "2021-12-11T08:15:33.447970Z",
     "iopub.status.idle": "2021-12-11T08:15:39.619541Z",
     "shell.execute_reply": "2021-12-11T08:15:39.618547Z",
     "shell.execute_reply.started": "2021-12-11T07:45:46.949357Z"
    },
    "papermill": {
     "duration": 6.206838,
     "end_time": "2021-12-11T08:15:39.619701",
     "exception": false,
     "start_time": "2021-12-11T08:15:33.412863",
     "status": "completed"
    },
    "tags": []
   },
   "outputs": [],
   "source": [
    "import random\n",
    "import pandas as pd\n",
    "from keras.models import Sequential\n",
    "from keras.preprocessing import sequence\n",
    "import numpy as np\n",
    "import keras\n",
    "import tensorflow as tf\n",
    "from tensorflow.keras import layers\n",
    "from tqdm import tqdm\n",
    "from keras.utils.vis_utils import plot_model\n",
    "import matplotlib.pyplot as plt\n"
   ]
  },
  {
   "cell_type": "code",
   "execution_count": 4,
   "id": "a0dbe9c7",
   "metadata": {
    "execution": {
     "iopub.execute_input": "2021-12-11T08:15:39.680814Z",
     "iopub.status.busy": "2021-12-11T08:15:39.679715Z",
     "iopub.status.idle": "2021-12-11T08:15:40.868181Z",
     "shell.execute_reply": "2021-12-11T08:15:40.868788Z",
     "shell.execute_reply.started": "2021-12-11T07:45:52.133832Z"
    },
    "papermill": {
     "duration": 1.220505,
     "end_time": "2021-12-11T08:15:40.868992",
     "exception": false,
     "start_time": "2021-12-11T08:15:39.648487",
     "status": "completed"
    },
    "tags": []
   },
   "outputs": [],
   "source": [
    "data = pd.read_csv('train.csv')"
   ]
  },
  {
   "cell_type": "code",
   "execution_count": 5,
   "id": "9b4ff74a",
   "metadata": {
    "execution": {
     "iopub.execute_input": "2021-12-11T08:15:40.934792Z",
     "iopub.status.busy": "2021-12-11T08:15:40.933762Z",
     "iopub.status.idle": "2021-12-11T08:15:41.125856Z",
     "shell.execute_reply": "2021-12-11T08:15:41.126616Z",
     "shell.execute_reply.started": "2021-12-11T07:45:53.191176Z"
    },
    "papermill": {
     "duration": 0.230424,
     "end_time": "2021-12-11T08:15:41.126805",
     "exception": false,
     "start_time": "2021-12-11T08:15:40.896381",
     "status": "completed"
    },
    "tags": []
   },
   "outputs": [
    {
     "data": {
      "text/plain": [
       "404287"
      ]
     },
     "execution_count": 5,
     "metadata": {},
     "output_type": "execute_result"
    }
   ],
   "source": [
    "data = data.dropna()\n",
    "data = data.reset_index(drop=True)\n",
    "data.shape[0]"
   ]
  },
  {
   "cell_type": "code",
   "execution_count": 6,
   "id": "f33aa8b5",
   "metadata": {
    "execution": {
     "iopub.execute_input": "2021-12-11T08:15:41.196095Z",
     "iopub.status.busy": "2021-12-11T08:15:41.195101Z",
     "iopub.status.idle": "2021-12-11T08:15:41.197880Z",
     "shell.execute_reply": "2021-12-11T08:15:41.198483Z",
     "shell.execute_reply.started": "2021-12-11T07:45:53.355066Z"
    },
    "papermill": {
     "duration": 0.039291,
     "end_time": "2021-12-11T08:15:41.198647",
     "exception": false,
     "start_time": "2021-12-11T08:15:41.159356",
     "status": "completed"
    },
    "tags": []
   },
   "outputs": [],
   "source": [
    "def pre_processing(data):\n",
    "    data['question1'] = data['question1'].str.lower()\n",
    "    data['question2'] = data['question2'].str.lower()\n",
    "    #Removing tags present in review\n",
    "    data['question1'] = data['question1'].str.replace('<.*?>','')\n",
    "    data['question2'] = data['question2'].str.replace('<.*?>','')\n",
    "    #Removing URLs present in review\n",
    "    data['question1'] = data['question1'].str.replace(r'http\\S+','')\n",
    "    data['question2'] = data['question2'].str.replace(r'http\\S+','')\n",
    "    #Removing punctuations\n",
    "    data['question1'] = data['question1'].str.replace('[^\\w\\s]','')\n",
    "    data['question2'] = data['question2'].str.replace('[^\\w\\s]','')\n",
    "    return data"
   ]
  },
  {
   "cell_type": "code",
   "execution_count": 7,
   "id": "7fa7144b",
   "metadata": {
    "execution": {
     "iopub.execute_input": "2021-12-11T08:15:41.308443Z",
     "iopub.status.busy": "2021-12-11T08:15:41.307206Z",
     "iopub.status.idle": "2021-12-11T08:15:46.419225Z",
     "shell.execute_reply": "2021-12-11T08:15:46.419873Z",
     "shell.execute_reply.started": "2021-12-11T07:45:53.363811Z"
    },
    "papermill": {
     "duration": 5.193583,
     "end_time": "2021-12-11T08:15:46.420210",
     "exception": false,
     "start_time": "2021-12-11T08:15:41.226627",
     "status": "completed"
    },
    "tags": []
   },
   "outputs": [
    {
     "name": "stderr",
     "output_type": "stream",
     "text": [
      "/opt/conda/lib/python3.7/site-packages/ipykernel_launcher.py:5: FutureWarning: The default value of regex will change from True to False in a future version.\n",
      "  \"\"\"\n",
      "/opt/conda/lib/python3.7/site-packages/ipykernel_launcher.py:6: FutureWarning: The default value of regex will change from True to False in a future version.\n",
      "  \n",
      "/opt/conda/lib/python3.7/site-packages/ipykernel_launcher.py:8: FutureWarning: The default value of regex will change from True to False in a future version.\n",
      "  \n",
      "/opt/conda/lib/python3.7/site-packages/ipykernel_launcher.py:9: FutureWarning: The default value of regex will change from True to False in a future version.\n",
      "  if __name__ == '__main__':\n",
      "/opt/conda/lib/python3.7/site-packages/ipykernel_launcher.py:11: FutureWarning: The default value of regex will change from True to False in a future version.\n",
      "  # This is added back by InteractiveShellApp.init_path()\n",
      "/opt/conda/lib/python3.7/site-packages/ipykernel_launcher.py:12: FutureWarning: The default value of regex will change from True to False in a future version.\n",
      "  if sys.path[0] == '':\n"
     ]
    }
   ],
   "source": [
    "data = pre_processing(data)"
   ]
  },
  {
   "cell_type": "code",
   "execution_count": 8,
   "id": "4eada3ab",
   "metadata": {
    "execution": {
     "iopub.execute_input": "2021-12-11T08:15:46.489294Z",
     "iopub.status.busy": "2021-12-11T08:15:46.488286Z",
     "iopub.status.idle": "2021-12-11T08:15:46.603435Z",
     "shell.execute_reply": "2021-12-11T08:15:46.602728Z",
     "shell.execute_reply.started": "2021-12-11T07:45:57.372698Z"
    },
    "papermill": {
     "duration": 0.152983,
     "end_time": "2021-12-11T08:15:46.603595",
     "exception": false,
     "start_time": "2021-12-11T08:15:46.450612",
     "status": "completed"
    },
    "tags": []
   },
   "outputs": [],
   "source": [
    "# Shuffle the data\n",
    "seed = 1337\n",
    "data = data.sample(frac = 1, random_state=seed)\n",
    "\n",
    "# Extract a training & validation split\n",
    "validation_split = 0.2\n",
    "num_validation_samples = int(validation_split * len(data))\n",
    "train_data = data[:-num_validation_samples]\n",
    "val_data = data[-num_validation_samples:]"
   ]
  },
  {
   "cell_type": "code",
   "execution_count": 9,
   "id": "fc409c92",
   "metadata": {
    "execution": {
     "iopub.execute_input": "2021-12-11T08:15:46.672811Z",
     "iopub.status.busy": "2021-12-11T08:15:46.672071Z",
     "iopub.status.idle": "2021-12-11T08:15:46.675413Z",
     "shell.execute_reply": "2021-12-11T08:15:46.675958Z",
     "shell.execute_reply.started": "2021-12-11T07:45:57.491560Z"
    },
    "papermill": {
     "duration": 0.041054,
     "end_time": "2021-12-11T08:15:46.676134",
     "exception": false,
     "start_time": "2021-12-11T08:15:46.635080",
     "status": "completed"
    },
    "tags": []
   },
   "outputs": [],
   "source": [
    "train_question1 = train_data['question1']\n",
    "train_question2 = train_data['question2']\n",
    "train_label = train_data['is_duplicate']\n",
    "\n",
    "val_question1 = val_data['question1']\n",
    "val_question2 = val_data['question2']\n",
    "val_label = val_data['is_duplicate']"
   ]
  },
  {
   "cell_type": "code",
   "execution_count": 10,
   "id": "3cae3f4a",
   "metadata": {
    "execution": {
     "iopub.execute_input": "2021-12-11T08:15:46.755292Z",
     "iopub.status.busy": "2021-12-11T08:15:46.754018Z",
     "iopub.status.idle": "2021-12-11T08:15:46.776642Z",
     "shell.execute_reply": "2021-12-11T08:15:46.777184Z",
     "shell.execute_reply.started": "2021-12-11T07:45:57.507885Z"
    },
    "papermill": {
     "duration": 0.070357,
     "end_time": "2021-12-11T08:15:46.777422",
     "exception": false,
     "start_time": "2021-12-11T08:15:46.707065",
     "status": "completed"
    },
    "tags": []
   },
   "outputs": [
    {
     "data": {
      "text/plain": [
       "646860"
      ]
     },
     "execution_count": 10,
     "metadata": {},
     "output_type": "execute_result"
    }
   ],
   "source": [
    "all_train_sentence = pd.concat([train_question1, train_question2], ignore_index=True)\n",
    "all_train_sentence.shape[0]"
   ]
  },
  {
   "cell_type": "code",
   "execution_count": 11,
   "id": "d488a75a",
   "metadata": {
    "execution": {
     "iopub.execute_input": "2021-12-11T08:15:46.844981Z",
     "iopub.status.busy": "2021-12-11T08:15:46.844116Z",
     "iopub.status.idle": "2021-12-11T08:15:59.124226Z",
     "shell.execute_reply": "2021-12-11T08:15:59.123229Z",
     "shell.execute_reply.started": "2021-12-11T07:45:57.532521Z"
    },
    "papermill": {
     "duration": 12.316784,
     "end_time": "2021-12-11T08:15:59.124428",
     "exception": false,
     "start_time": "2021-12-11T08:15:46.807644",
     "status": "completed"
    },
    "tags": []
   },
   "outputs": [
    {
     "name": "stderr",
     "output_type": "stream",
     "text": [
      "2021-12-11 08:15:46.928397: I tensorflow/stream_executor/cuda/cuda_gpu_executor.cc:937] successful NUMA node read from SysFS had negative value (-1), but there must be at least one NUMA node, so returning NUMA node zero\n",
      "2021-12-11 08:15:47.051431: I tensorflow/stream_executor/cuda/cuda_gpu_executor.cc:937] successful NUMA node read from SysFS had negative value (-1), but there must be at least one NUMA node, so returning NUMA node zero\n",
      "2021-12-11 08:15:47.052548: I tensorflow/stream_executor/cuda/cuda_gpu_executor.cc:937] successful NUMA node read from SysFS had negative value (-1), but there must be at least one NUMA node, so returning NUMA node zero\n",
      "2021-12-11 08:15:47.054645: I tensorflow/core/platform/cpu_feature_guard.cc:142] This TensorFlow binary is optimized with oneAPI Deep Neural Network Library (oneDNN) to use the following CPU instructions in performance-critical operations:  AVX2 FMA\n",
      "To enable them in other operations, rebuild TensorFlow with the appropriate compiler flags.\n",
      "2021-12-11 08:15:47.055984: I tensorflow/stream_executor/cuda/cuda_gpu_executor.cc:937] successful NUMA node read from SysFS had negative value (-1), but there must be at least one NUMA node, so returning NUMA node zero\n",
      "2021-12-11 08:15:47.057188: I tensorflow/stream_executor/cuda/cuda_gpu_executor.cc:937] successful NUMA node read from SysFS had negative value (-1), but there must be at least one NUMA node, so returning NUMA node zero\n",
      "2021-12-11 08:15:47.058388: I tensorflow/stream_executor/cuda/cuda_gpu_executor.cc:937] successful NUMA node read from SysFS had negative value (-1), but there must be at least one NUMA node, so returning NUMA node zero\n",
      "2021-12-11 08:15:49.427569: I tensorflow/stream_executor/cuda/cuda_gpu_executor.cc:937] successful NUMA node read from SysFS had negative value (-1), but there must be at least one NUMA node, so returning NUMA node zero\n",
      "2021-12-11 08:15:49.428735: I tensorflow/stream_executor/cuda/cuda_gpu_executor.cc:937] successful NUMA node read from SysFS had negative value (-1), but there must be at least one NUMA node, so returning NUMA node zero\n",
      "2021-12-11 08:15:49.429800: I tensorflow/stream_executor/cuda/cuda_gpu_executor.cc:937] successful NUMA node read from SysFS had negative value (-1), but there must be at least one NUMA node, so returning NUMA node zero\n",
      "2021-12-11 08:15:49.430767: I tensorflow/core/common_runtime/gpu/gpu_device.cc:1510] Created device /job:localhost/replica:0/task:0/device:GPU:0 with 15403 MB memory:  -> device: 0, name: Tesla P100-PCIE-16GB, pci bus id: 0000:00:04.0, compute capability: 6.0\n",
      "2021-12-11 08:15:50.139859: I tensorflow/compiler/mlir/mlir_graph_optimization_pass.cc:185] None of the MLIR Optimization Passes are enabled (registered 2)\n"
     ]
    }
   ],
   "source": [
    "vectorizer = layers.TextVectorization(max_tokens=50000, output_sequence_length=50)\n",
    "text_ds = tf.data.Dataset.from_tensor_slices(all_train_sentence).batch(128)\n",
    "vectorizer.adapt(text_ds)"
   ]
  },
  {
   "cell_type": "code",
   "execution_count": 12,
   "id": "a4607300",
   "metadata": {
    "execution": {
     "iopub.execute_input": "2021-12-11T08:15:59.195514Z",
     "iopub.status.busy": "2021-12-11T08:15:59.194448Z",
     "iopub.status.idle": "2021-12-11T08:15:59.378460Z",
     "shell.execute_reply": "2021-12-11T08:15:59.379037Z",
     "shell.execute_reply.started": "2021-12-11T07:46:07.353996Z"
    },
    "papermill": {
     "duration": 0.221853,
     "end_time": "2021-12-11T08:15:59.379223",
     "exception": false,
     "start_time": "2021-12-11T08:15:59.157370",
     "status": "completed"
    },
    "tags": []
   },
   "outputs": [
    {
     "data": {
      "text/plain": [
       "50000"
      ]
     },
     "execution_count": 12,
     "metadata": {},
     "output_type": "execute_result"
    }
   ],
   "source": [
    "voc = vectorizer.get_vocabulary()\n",
    "word_index = dict(zip(voc, range(len(voc))))\n",
    "len(voc)"
   ]
  },
  {
   "cell_type": "code",
   "execution_count": 13,
   "id": "c1975120",
   "metadata": {
    "execution": {
     "iopub.execute_input": "2021-12-11T08:15:59.453168Z",
     "iopub.status.busy": "2021-12-11T08:15:59.452426Z",
     "iopub.status.idle": "2021-12-11T08:16:14.797433Z",
     "shell.execute_reply": "2021-12-11T08:16:14.798211Z",
     "shell.execute_reply.started": "2021-12-11T07:46:07.519802Z"
    },
    "papermill": {
     "duration": 15.386969,
     "end_time": "2021-12-11T08:16:14.798494",
     "exception": false,
     "start_time": "2021-12-11T08:15:59.411525",
     "status": "completed"
    },
    "tags": []
   },
   "outputs": [
    {
     "name": "stdout",
     "output_type": "stream",
     "text": [
      "Found 400000 word vectors.\n"
     ]
    }
   ],
   "source": [
    "path_to_glove_file = \"/kaggle/input/glove6b/glove.6B.100d.txt\"\n",
    "embeddings_index = {}\n",
    "with open(path_to_glove_file) as f:\n",
    "    for line in f:\n",
    "        word, coefs = line.split(maxsplit=1)\n",
    "        coefs = np.fromstring(coefs, \"f\", sep=\" \")\n",
    "        embeddings_index[word] = coefs\n",
    "\n",
    "print(\"Found %s word vectors.\" % len(embeddings_index))"
   ]
  },
  {
   "cell_type": "code",
   "execution_count": 14,
   "id": "0b223c9a",
   "metadata": {
    "execution": {
     "iopub.execute_input": "2021-12-11T08:16:14.881754Z",
     "iopub.status.busy": "2021-12-11T08:16:14.880689Z",
     "iopub.status.idle": "2021-12-11T08:16:15.034960Z",
     "shell.execute_reply": "2021-12-11T08:16:15.031541Z",
     "shell.execute_reply.started": "2021-12-11T07:46:20.186906Z"
    },
    "papermill": {
     "duration": 0.198116,
     "end_time": "2021-12-11T08:16:15.035203",
     "exception": false,
     "start_time": "2021-12-11T08:16:14.837087",
     "status": "completed"
    },
    "tags": []
   },
   "outputs": [
    {
     "name": "stdout",
     "output_type": "stream",
     "text": [
      "Converted 39839 words (10161 misses)\n"
     ]
    }
   ],
   "source": [
    "num_tokens = len(voc) + 2\n",
    "embedding_dim = 100\n",
    "hits = 0\n",
    "misses = 0\n",
    "\n",
    "# Prepare embedding matrix\n",
    "embedding_matrix = np.zeros((num_tokens, embedding_dim))\n",
    "for word, i in word_index.items():\n",
    "    embedding_vector = embeddings_index.get(word)\n",
    "    if embedding_vector is not None:\n",
    "        # Words not found in embedding index will be all-zeros.\n",
    "        # This includes the representation for \"padding\" and \"OOV\"\n",
    "        embedding_matrix[i] = embedding_vector\n",
    "        hits += 1\n",
    "    else:\n",
    "        misses += 1\n",
    "print(\"Converted %d words (%d misses)\" % (hits, misses))"
   ]
  },
  {
   "cell_type": "code",
   "execution_count": 15,
   "id": "16fc8ef2",
   "metadata": {
    "execution": {
     "iopub.execute_input": "2021-12-11T08:16:15.201116Z",
     "iopub.status.busy": "2021-12-11T08:16:15.200063Z",
     "iopub.status.idle": "2021-12-11T08:16:16.079938Z",
     "shell.execute_reply": "2021-12-11T08:16:16.081342Z",
     "shell.execute_reply.started": "2021-12-11T07:46:20.303861Z"
    },
    "papermill": {
     "duration": 0.965111,
     "end_time": "2021-12-11T08:16:16.081599",
     "exception": false,
     "start_time": "2021-12-11T08:16:15.116488",
     "status": "completed"
    },
    "tags": []
   },
   "outputs": [
    {
     "name": "stdout",
     "output_type": "stream",
     "text": [
      "Model: \"model\"\n",
      "__________________________________________________________________________________________________\n",
      "Layer (type)                    Output Shape         Param #     Connected to                     \n",
      "==================================================================================================\n",
      "input_1 (InputLayer)            [(None, None)]       0                                            \n",
      "__________________________________________________________________________________________________\n",
      "input_2 (InputLayer)            [(None, None)]       0                                            \n",
      "__________________________________________________________________________________________________\n",
      "text_vectorization (TextVectori (None, 50)           0           input_1[0][0]                    \n",
      "                                                                 input_2[0][0]                    \n",
      "__________________________________________________________________________________________________\n",
      "embedding (Embedding)           (None, 50, 100)      5000200     text_vectorization[0][0]         \n",
      "                                                                 text_vectorization[1][0]         \n",
      "__________________________________________________________________________________________________\n",
      "lstm (LSTM)                     (None, 100)          80400       embedding[0][0]                  \n",
      "                                                                 embedding[1][0]                  \n",
      "__________________________________________________________________________________________________\n",
      "concatenate (Concatenate)       (None, 200)          0           lstm[0][0]                       \n",
      "                                                                 lstm[1][0]                       \n",
      "__________________________________________________________________________________________________\n",
      "dropout (Dropout)               (None, 200)          0           concatenate[0][0]                \n",
      "__________________________________________________________________________________________________\n",
      "batch_normalization (BatchNorma (None, 200)          800         dropout[0][0]                    \n",
      "__________________________________________________________________________________________________\n",
      "dense (Dense)                   (None, 50)           10050       batch_normalization[0][0]        \n",
      "__________________________________________________________________________________________________\n",
      "dropout_1 (Dropout)             (None, 50)           0           dense[0][0]                      \n",
      "__________________________________________________________________________________________________\n",
      "batch_normalization_1 (BatchNor (None, 50)           200         dropout_1[0][0]                  \n",
      "__________________________________________________________________________________________________\n",
      "dense_1 (Dense)                 (None, 1)            51          batch_normalization_1[0][0]      \n",
      "==================================================================================================\n",
      "Total params: 5,091,701\n",
      "Trainable params: 91,001\n",
      "Non-trainable params: 5,000,700\n",
      "__________________________________________________________________________________________________\n"
     ]
    }
   ],
   "source": [
    "embedding_layer = layers.Embedding(\n",
    "    num_tokens,\n",
    "    embedding_dim,\n",
    "    embeddings_initializer=keras.initializers.Constant(embedding_matrix),\n",
    "    trainable=False,\n",
    ")\n",
    "\n",
    "input1 = keras.Input(shape=(None,), dtype=\"string\")\n",
    "input2 = keras.Input(shape=(None,), dtype=\"string\")\n",
    "\n",
    "int_sequences_input1 = vectorizer(input1)\n",
    "int_sequences_input2 = vectorizer(input2)\n",
    "\n",
    "embedded_sequence1 = embedding_layer(int_sequences_input1)\n",
    "embedded_sequence2 = embedding_layer(int_sequences_input2)\n",
    "\n",
    "shared_lstm_1 = layers.LSTM(100) \n",
    "# shared_lstm_1 = layers.LSTM(100, return_sequences=True) \n",
    "# shared_lstm_2 = layers.LSTM(50)\n",
    "\n",
    "x1 = shared_lstm_1(embedded_sequence1)\n",
    "# x1 = shared_lstm_2(x1)\n",
    "\n",
    "x2 = shared_lstm_1(embedded_sequence2)\n",
    "# x2 = shared_lstm_2(x2)\n",
    "\n",
    "x = layers.Concatenate(axis=-1)([x1,x2])\n",
    "x = layers.Dropout(0.2)(x)\n",
    "x = layers.BatchNormalization()(x)\n",
    "\n",
    "dense_layer1 = layers.Dense(50, activation=\"relu\")\n",
    "x = dense_layer1(x)\n",
    "x = layers.Dropout(0.2)(x)\n",
    "x = layers.BatchNormalization()(x)\n",
    "\n",
    "preds = layers.Dense(1, activation=\"sigmoid\")(x)\n",
    "\n",
    "model = keras.Model([input1, input2], preds)\n",
    "model.summary()"
   ]
  },
  {
   "cell_type": "code",
   "execution_count": 16,
   "id": "45d0310c",
   "metadata": {
    "execution": {
     "iopub.execute_input": "2021-12-11T08:16:16.161165Z",
     "iopub.status.busy": "2021-12-11T08:16:16.159800Z",
     "iopub.status.idle": "2021-12-11T08:33:23.096096Z",
     "shell.execute_reply": "2021-12-11T08:33:23.095526Z",
     "shell.execute_reply.started": "2021-12-11T07:46:20.847587Z"
    },
    "papermill": {
     "duration": 1026.98104,
     "end_time": "2021-12-11T08:33:23.096288",
     "exception": false,
     "start_time": "2021-12-11T08:16:16.115248",
     "status": "completed"
    },
    "tags": []
   },
   "outputs": [
    {
     "name": "stdout",
     "output_type": "stream",
     "text": [
      "Epoch 1/20\n"
     ]
    },
    {
     "name": "stderr",
     "output_type": "stream",
     "text": [
      "2021-12-11 08:16:21.926907: I tensorflow/stream_executor/cuda/cuda_dnn.cc:369] Loaded cuDNN version 8005\n"
     ]
    },
    {
     "name": "stdout",
     "output_type": "stream",
     "text": [
      "2527/2527 [==============================] - 73s 26ms/step - loss: 0.5669 - acc: 0.7020 - precision: 0.6319 - recall: 0.4634 - val_loss: 0.5298 - val_acc: 0.7317 - val_precision: 0.7408 - val_recall: 0.4170\n",
      "Epoch 2/20\n",
      "2527/2527 [==============================] - 66s 26ms/step - loss: 0.5013 - acc: 0.7521 - precision: 0.6988 - recall: 0.5781 - val_loss: 0.5390 - val_acc: 0.7087 - val_precision: 0.8500 - val_recall: 0.2533\n",
      "Epoch 3/20\n",
      "2527/2527 [==============================] - 67s 27ms/step - loss: 0.4737 - acc: 0.7701 - precision: 0.7145 - recall: 0.6292 - val_loss: 0.4711 - val_acc: 0.7737 - val_precision: 0.7257 - val_recall: 0.6194\n",
      "Epoch 4/20\n",
      "2527/2527 [==============================] - 68s 27ms/step - loss: 0.4544 - acc: 0.7817 - precision: 0.7253 - recall: 0.6587 - val_loss: 0.4705 - val_acc: 0.7711 - val_precision: 0.7492 - val_recall: 0.5686\n",
      "Epoch 5/20\n",
      "2527/2527 [==============================] - 68s 27ms/step - loss: 0.4382 - acc: 0.7917 - precision: 0.7343 - recall: 0.6838 - val_loss: 0.4812 - val_acc: 0.7745 - val_precision: 0.6696 - val_recall: 0.7650\n",
      "Epoch 6/20\n",
      "2527/2527 [==============================] - 68s 27ms/step - loss: 0.4245 - acc: 0.7997 - precision: 0.7415 - recall: 0.7029 - val_loss: 0.4684 - val_acc: 0.7775 - val_precision: 0.7605 - val_recall: 0.5775\n",
      "Epoch 7/20\n",
      "2527/2527 [==============================] - 68s 27ms/step - loss: 0.4116 - acc: 0.8072 - precision: 0.7497 - recall: 0.7177 - val_loss: 0.4404 - val_acc: 0.7898 - val_precision: 0.6994 - val_recall: 0.7525\n",
      "Epoch 8/20\n",
      "2527/2527 [==============================] - 68s 27ms/step - loss: 0.4005 - acc: 0.8138 - precision: 0.7558 - recall: 0.7326 - val_loss: 0.4424 - val_acc: 0.7945 - val_precision: 0.7674 - val_recall: 0.6341\n",
      "Epoch 9/20\n",
      "2527/2527 [==============================] - 70s 28ms/step - loss: 0.3893 - acc: 0.8203 - precision: 0.7617 - recall: 0.7477 - val_loss: 0.4357 - val_acc: 0.7923 - val_precision: 0.6937 - val_recall: 0.7802\n",
      "Epoch 10/20\n",
      "2527/2527 [==============================] - 67s 26ms/step - loss: 0.3790 - acc: 0.8256 - precision: 0.7675 - recall: 0.7575 - val_loss: 0.4287 - val_acc: 0.7971 - val_precision: 0.7114 - val_recall: 0.7554\n",
      "Epoch 11/20\n",
      "2527/2527 [==============================] - 67s 27ms/step - loss: 0.3697 - acc: 0.8309 - precision: 0.7733 - recall: 0.7674 - val_loss: 0.4393 - val_acc: 0.7957 - val_precision: 0.7014 - val_recall: 0.7750\n",
      "Epoch 12/20\n",
      "2527/2527 [==============================] - 67s 27ms/step - loss: 0.3611 - acc: 0.8362 - precision: 0.7792 - recall: 0.7769 - val_loss: 0.4352 - val_acc: 0.8025 - val_precision: 0.7254 - val_recall: 0.7457\n",
      "Epoch 13/20\n",
      "2527/2527 [==============================] - 68s 27ms/step - loss: 0.3522 - acc: 0.8409 - precision: 0.7838 - recall: 0.7863 - val_loss: 0.4563 - val_acc: 0.7855 - val_precision: 0.6708 - val_recall: 0.8197\n",
      "Epoch 14/20\n",
      "2527/2527 [==============================] - 69s 27ms/step - loss: 0.3441 - acc: 0.8458 - precision: 0.7887 - recall: 0.7958 - val_loss: 0.4405 - val_acc: 0.8043 - val_precision: 0.7419 - val_recall: 0.7183\n",
      "Epoch 15/20\n",
      "2527/2527 [==============================] - 69s 27ms/step - loss: 0.3362 - acc: 0.8502 - precision: 0.7937 - recall: 0.8032 - val_loss: 0.4292 - val_acc: 0.8026 - val_precision: 0.7192 - val_recall: 0.7607\n"
     ]
    }
   ],
   "source": [
    "callback = tf.keras.callbacks.EarlyStopping(monitor='val_loss', patience=5, restore_best_weights=True)\n",
    "model.compile(\n",
    "    loss=\"binary_crossentropy\", optimizer=\"rmsprop\", metrics=[\"acc\", tf.keras.metrics.Precision(), tf.keras.metrics.Recall()]\n",
    ")\n",
    "history = model.fit([train_question1,train_question2], train_label, \n",
    "                    batch_size=128, epochs=20, callbacks=[callback],\n",
    "                    validation_data=([val_question1, val_question2], val_label))"
   ]
  },
  {
   "cell_type": "code",
   "execution_count": 17,
   "id": "c6391756",
   "metadata": {
    "execution": {
     "iopub.execute_input": "2021-12-11T08:33:33.226502Z",
     "iopub.status.busy": "2021-12-11T08:33:33.225769Z",
     "iopub.status.idle": "2021-12-11T08:33:43.322684Z",
     "shell.execute_reply": "2021-12-11T08:33:43.323185Z",
     "shell.execute_reply.started": "2021-12-11T08:00:09.827506Z"
    },
    "papermill": {
     "duration": 15.383021,
     "end_time": "2021-12-11T08:33:43.323398",
     "exception": false,
     "start_time": "2021-12-11T08:33:27.940377",
     "status": "completed"
    },
    "tags": []
   },
   "outputs": [
    {
     "data": {
      "image/png": "[encoded data removed]",
      "text/plain": [
       "<Figure size 432x288 with 1 Axes>"
      ]
     },
     "metadata": {
      "needs_background": "light"
     },
     "output_type": "display_data"
    },
    {
     "data": {
      "image/png": "[encoded data removed]",
      "text/plain": [
       "<Figure size 432x288 with 1 Axes>"
      ]
     },
     "metadata": {
      "needs_background": "light"
     },
     "output_type": "display_data"
    }
   ],
   "source": [
    "accuracy = history.history[\"acc\"]\n",
    "loss = history.history[\"loss\"]\n",
    "\n",
    "val_accuracy = history.history[\"val_acc\"]\n",
    "val_loss = history.history[\"val_loss\"]\n",
    "\n",
    "#plot \n",
    "plt.plot(accuracy,'g',label='training accuracy')\n",
    "plt.plot(val_accuracy, 'r', label='validation accuracy')\n",
    "plt.legend()\n",
    "plt.show()\n",
    "\n",
    "\n",
    "plt.plot(loss,'g',label='training loss')\n",
    "plt.plot(val_loss, 'r', label='validation loss')\n",
    "plt.legend()\n",
    "plt.show()"
   ]
  },
  {
   "cell_type": "code",
   "execution_count": 18,
   "id": "3d2453d0",
   "metadata": {
    "execution": {
     "iopub.execute_input": "2021-12-11T08:33:53.454791Z",
     "iopub.status.busy": "2021-12-11T08:33:53.453731Z",
     "iopub.status.idle": "2021-12-11T08:34:33.827331Z",
     "shell.execute_reply": "2021-12-11T08:34:33.826347Z",
     "shell.execute_reply.started": "2021-12-11T08:00:46.869820Z"
    },
    "papermill": {
     "duration": 45.603944,
     "end_time": "2021-12-11T08:34:33.827511",
     "exception": false,
     "start_time": "2021-12-11T08:33:48.223567",
     "status": "completed"
    },
    "tags": []
   },
   "outputs": [
    {
     "name": "stderr",
     "output_type": "stream",
     "text": [
      "2021-12-11 08:34:06.828288: W tensorflow/python/util/util.cc:348] Sets are not currently considered sequences, but this may change in the future, so consider avoiding using them.\n"
     ]
    }
   ],
   "source": [
    "model.save('lstm_siemese_v5')"
   ]
  },
  {
   "cell_type": "code",
   "execution_count": 19,
   "id": "00e25db2",
   "metadata": {
    "execution": {
     "iopub.execute_input": "2021-12-11T08:34:44.014086Z",
     "iopub.status.busy": "2021-12-11T08:34:44.012994Z",
     "iopub.status.idle": "2021-12-11T08:34:44.841623Z",
     "shell.execute_reply": "2021-12-11T08:34:44.840737Z",
     "shell.execute_reply.started": "2021-12-11T08:01:20.557206Z"
    },
    "papermill": {
     "duration": 5.736842,
     "end_time": "2021-12-11T08:34:44.841783",
     "exception": false,
     "start_time": "2021-12-11T08:34:39.104941",
     "status": "completed"
    },
    "tags": []
   },
   "outputs": [
    {
     "name": "stdout",
     "output_type": "stream",
     "text": [
      "\tzip warning: name not matched: lstm_siemese\r\n",
      "\r\n",
      "zip error: Nothing to do! (try: zip -r lstm_siemese.zip . -i lstm_siemese)\r\n"
     ]
    }
   ],
   "source": [
    "!zip -r lstm_siemese.zip lstm_siemese"
   ]
  },
  {
   "cell_type": "code",
   "execution_count": 20,
   "id": "df59fff3",
   "metadata": {
    "execution": {
     "iopub.execute_input": "2021-12-11T08:34:55.697083Z",
     "iopub.status.busy": "2021-12-11T08:34:55.696312Z",
     "iopub.status.idle": "2021-12-11T08:35:11.114683Z",
     "shell.execute_reply": "2021-12-11T08:35:11.113583Z",
     "shell.execute_reply.started": "2021-12-11T08:01:21.323033Z"
    },
    "papermill": {
     "duration": 20.303107,
     "end_time": "2021-12-11T08:35:11.114847",
     "exception": false,
     "start_time": "2021-12-11T08:34:50.811740",
     "status": "completed"
    },
    "tags": []
   },
   "outputs": [],
   "source": [
    "test_data = pd.read_csv('/kaggle/input/quora-question-pairs/test.csv')\n",
    "test_data = test_data.fillna('')"
   ]
  },
  {
   "cell_type": "code",
   "execution_count": 21,
   "id": "cd740e3e",
   "metadata": {
    "execution": {
     "iopub.execute_input": "2021-12-11T08:35:22.034866Z",
     "iopub.status.busy": "2021-12-11T08:35:22.033915Z",
     "iopub.status.idle": "2021-12-11T08:35:22.037652Z",
     "shell.execute_reply": "2021-12-11T08:35:22.038197Z",
     "shell.execute_reply.started": "2021-12-11T08:01:30.556490Z"
    },
    "papermill": {
     "duration": 5.984361,
     "end_time": "2021-12-11T08:35:22.038395",
     "exception": false,
     "start_time": "2021-12-11T08:35:16.054034",
     "status": "completed"
    },
    "tags": []
   },
   "outputs": [
    {
     "data": {
      "text/plain": [
       "[0,\n",
       " 234580,\n",
       " 469160,\n",
       " 703740,\n",
       " 938320,\n",
       " 1172900,\n",
       " 1407480,\n",
       " 1642060,\n",
       " 1876640,\n",
       " 2111220,\n",
       " 2345796]"
      ]
     },
     "execution_count": 21,
     "metadata": {},
     "output_type": "execute_result"
    }
   ],
   "source": [
    "batches = list(range(0,2345796, 234580))\n",
    "batches.append(2345796)\n",
    "batches"
   ]
  },
  {
   "cell_type": "code",
   "execution_count": 22,
   "id": "8279bb7f",
   "metadata": {
    "execution": {
     "iopub.execute_input": "2021-12-11T08:35:32.202328Z",
     "iopub.status.busy": "2021-12-11T08:35:32.201399Z",
     "iopub.status.idle": "2021-12-11T08:46:51.868341Z",
     "shell.execute_reply": "2021-12-11T08:46:51.868894Z",
     "shell.execute_reply.started": "2021-12-11T08:01:30.567165Z"
    },
    "papermill": {
     "duration": 684.916674,
     "end_time": "2021-12-11T08:46:51.869108",
     "exception": false,
     "start_time": "2021-12-11T08:35:26.952434",
     "status": "completed"
    },
    "tags": []
   },
   "outputs": [
    {
     "name": "stderr",
     "output_type": "stream",
     "text": [
      "100%|██████████| 10/10 [11:19<00:00, 67.97s/it]\n"
     ]
    }
   ],
   "source": [
    "#takes about 35 mins\n",
    "probabilities = np.array([])\n",
    "for i in tqdm(range(len(batches) - 1)):\n",
    "    start = batches[i]\n",
    "    end = batches[i+1]\n",
    "    test_question1 = test_data['question1'][start:end]\n",
    "    test_question2 = test_data['question2'][start:end]\n",
    "    probs = model.predict([test_question1, test_question2])\n",
    "    probs = probs.reshape(-1)\n",
    "    probabilities = np.concatenate([probabilities, probs])"
   ]
  },
  {
   "cell_type": "code",
   "execution_count": 23,
   "id": "75e575a4",
   "metadata": {
    "execution": {
     "iopub.execute_input": "2021-12-11T08:47:01.820885Z",
     "iopub.status.busy": "2021-12-11T08:47:01.819720Z",
     "iopub.status.idle": "2021-12-11T08:47:02.104823Z",
     "shell.execute_reply": "2021-12-11T08:47:02.105738Z",
     "shell.execute_reply.started": "2021-12-11T08:13:05.192840Z"
    },
    "papermill": {
     "duration": 5.133061,
     "end_time": "2021-12-11T08:47:02.106014",
     "exception": false,
     "start_time": "2021-12-11T08:46:56.972953",
     "status": "completed"
    },
    "tags": []
   },
   "outputs": [
    {
     "name": "stderr",
     "output_type": "stream",
     "text": [
      "/opt/conda/lib/python3.7/site-packages/ipykernel_launcher.py:3: SettingWithCopyWarning: \n",
      "A value is trying to be set on a copy of a slice from a DataFrame.\n",
      "Try using .loc[row_indexer,col_indexer] = value instead\n",
      "\n",
      "See the caveats in the documentation: https://pandas.pydata.org/pandas-docs/stable/user_guide/indexing.html#returning-a-view-versus-a-copy\n",
      "  This is separate from the ipykernel package so we can avoid doing imports until\n"
     ]
    }
   ],
   "source": [
    "output = test_data[['test_id']]\n",
    "output.shape\n",
    "output['is_duplicate'] = probabilities"
   ]
  },
  {
   "cell_type": "code",
   "execution_count": 24,
   "id": "b7683375",
   "metadata": {
    "execution": {
     "iopub.execute_input": "2021-12-11T08:47:12.159085Z",
     "iopub.status.busy": "2021-12-11T08:47:12.158328Z",
     "iopub.status.idle": "2021-12-11T08:47:20.743587Z",
     "shell.execute_reply": "2021-12-11T08:47:20.742976Z",
     "shell.execute_reply.started": "2021-12-11T08:13:05.452912Z"
    },
    "papermill": {
     "duration": 13.453863,
     "end_time": "2021-12-11T08:47:20.743747",
     "exception": false,
     "start_time": "2021-12-11T08:47:07.289884",
     "status": "completed"
    },
    "tags": []
   },
   "outputs": [],
   "source": [
    "output.to_csv('lstm_siemese_v5.csv',index=False)"
   ]
  },
  {
   "cell_type": "code",
   "execution_count": null,
   "id": "e5f80a3b",
   "metadata": {
    "papermill": {
     "duration": 4.821941,
     "end_time": "2021-12-11T08:47:31.357515",
     "exception": false,
     "start_time": "2021-12-11T08:47:26.535574",
     "status": "completed"
    },
    "tags": []
   },
   "outputs": [],
   "source": []
  },
  {
   "cell_type": "code",
   "execution_count": null,
   "id": "82d78321",
   "metadata": {
    "papermill": {
     "duration": 4.944019,
     "end_time": "2021-12-11T08:47:41.307518",
     "exception": false,
     "start_time": "2021-12-11T08:47:36.363499",
     "status": "completed"
    },
    "tags": []
   },
   "outputs": [],
   "source": []
  },
  {
   "cell_type": "code",
   "execution_count": null,
   "id": "597a3134",
   "metadata": {
    "papermill": {
     "duration": 5.142874,
     "end_time": "2021-12-11T08:47:51.344672",
     "exception": false,
     "start_time": "2021-12-11T08:47:46.201798",
     "status": "completed"
    },
    "tags": []
   },
   "outputs": [],
   "source": []
  },
  {
   "cell_type": "code",
   "execution_count": 25,
   "id": "dd02bcc5",
   "metadata": {
    "execution": {
     "iopub.execute_input": "2021-12-11T08:48:01.982233Z",
     "iopub.status.busy": "2021-12-11T08:48:01.981092Z",
     "iopub.status.idle": "2021-12-11T08:48:02.667821Z",
     "shell.execute_reply": "2021-12-11T08:48:02.666822Z",
     "shell.execute_reply.started": "2021-12-11T08:13:13.792620Z"
    },
    "papermill": {
     "duration": 6.55451,
     "end_time": "2021-12-11T08:48:02.667975",
     "exception": false,
     "start_time": "2021-12-11T08:47:56.113465",
     "status": "completed"
    },
    "tags": []
   },
   "outputs": [
    {
     "name": "stdout",
     "output_type": "stream",
     "text": [
      "Model: \"model_1\"\n",
      "__________________________________________________________________________________________________\n",
      "Layer (type)                    Output Shape         Param #     Connected to                     \n",
      "==================================================================================================\n",
      "input_3 (InputLayer)            [(None, None)]       0                                            \n",
      "__________________________________________________________________________________________________\n",
      "input_4 (InputLayer)            [(None, None)]       0                                            \n",
      "__________________________________________________________________________________________________\n",
      "text_vectorization (TextVectori (None, 50)           0           input_3[0][0]                    \n",
      "                                                                 input_4[0][0]                    \n",
      "__________________________________________________________________________________________________\n",
      "embedding_1 (Embedding)         (None, 50, 100)      5000200     text_vectorization[2][0]         \n",
      "                                                                 text_vectorization[3][0]         \n",
      "__________________________________________________________________________________________________\n",
      "lstm_1 (LSTM)                   (None, 50, 100)      80400       embedding_1[1][0]                \n",
      "__________________________________________________________________________________________________\n",
      "conv1d (Conv1D)                 (None, 50, 50)       15050       embedding_1[0][0]                \n",
      "                                                                 lstm_1[1][0]                     \n",
      "__________________________________________________________________________________________________\n",
      "max_pooling1d (MaxPooling1D)    (None, 25, 50)       0           conv1d[0][0]                     \n",
      "__________________________________________________________________________________________________\n",
      "max_pooling1d_1 (MaxPooling1D)  (None, 25, 50)       0           conv1d[1][0]                     \n",
      "__________________________________________________________________________________________________\n",
      "flatten (Flatten)               (None, 1250)         0           max_pooling1d[0][0]              \n",
      "__________________________________________________________________________________________________\n",
      "flatten_1 (Flatten)             (None, 1250)         0           max_pooling1d_1[0][0]            \n",
      "__________________________________________________________________________________________________\n",
      "concatenate_1 (Concatenate)     (None, 2500)         0           flatten[0][0]                    \n",
      "                                                                 flatten_1[0][0]                  \n",
      "__________________________________________________________________________________________________\n",
      "dropout_2 (Dropout)             (None, 2500)         0           concatenate_1[0][0]              \n",
      "__________________________________________________________________________________________________\n",
      "dense_2 (Dense)                 (None, 50)           125050      dropout_2[0][0]                  \n",
      "__________________________________________________________________________________________________\n",
      "dropout_3 (Dropout)             (None, 50)           0           dense_2[0][0]                    \n",
      "__________________________________________________________________________________________________\n",
      "dense_3 (Dense)                 (None, 1)            51          dropout_3[0][0]                  \n",
      "==================================================================================================\n",
      "Total params: 5,220,751\n",
      "Trainable params: 220,551\n",
      "Non-trainable params: 5,000,200\n",
      "__________________________________________________________________________________________________\n"
     ]
    }
   ],
   "source": [
    "embedding_layer = layers.Embedding(\n",
    "    num_tokens,\n",
    "    embedding_dim,\n",
    "    embeddings_initializer=keras.initializers.Constant(embedding_matrix),\n",
    "    trainable=False,\n",
    ")\n",
    "\n",
    "input1 = keras.Input(shape=(None,), dtype=\"string\")\n",
    "input2 = keras.Input(shape=(None,), dtype=\"string\")\n",
    "\n",
    "int_sequences_input1 = vectorizer(input1)\n",
    "int_sequences_input2 = vectorizer(input2)\n",
    "\n",
    "embedded_sequence1 = embedding_layer(int_sequences_input1)\n",
    "embedded_sequence2 = embedding_layer(int_sequences_input2)\n",
    "\n",
    "shared_cnn1d = layers.Conv1D(50, 3, padding='same', activation='relu')\n",
    "\n",
    "# shared_lstm_1 = layers.LSTM(100) \n",
    "shared_lstm_1 = layers.LSTM(100, return_sequences=True) \n",
    "# shared_lstm_2 = layers.LSTM(50)\n",
    "\n",
    "x1 = shared_lstm_1(embedded_sequence1)\n",
    "# x1 = shared_lstm_2(x1)\n",
    "x1 = shared_cnn1d(embedded_sequence1)\n",
    "x1 = layers.MaxPooling1D()(x1)\n",
    "x1 = layers.Flatten()(x1)\n",
    "\n",
    "x2 = shared_lstm_1(embedded_sequence2)\n",
    "# x2 = shared_lstm_2(x2)\n",
    "\n",
    "x2 = shared_cnn1d(x2)\n",
    "x2 = layers.MaxPooling1D()(x2)\n",
    "x2 = layers.Flatten()(x2)\n",
    "\n",
    "x = layers.Concatenate(axis=-1)([x1,x2])\n",
    "x = layers.Dropout(0.2)(x)\n",
    "\n",
    "dense_layer1 = layers.Dense(50, activation=\"relu\")\n",
    "x = dense_layer1(x)\n",
    "x = layers.Dropout(0.2)(x)\n",
    "\n",
    "preds = layers.Dense(1, activation=\"sigmoid\")(x)\n",
    "\n",
    "model = keras.Model([input1, input2], preds)\n",
    "model.summary()"
   ]
  },
  {
   "cell_type": "code",
   "execution_count": 26,
   "id": "bf7108e0",
   "metadata": {
    "execution": {
     "iopub.execute_input": "2021-12-11T08:48:12.693075Z",
     "iopub.status.busy": "2021-12-11T08:48:12.689020Z",
     "iopub.status.idle": "2021-12-11T08:58:34.189411Z",
     "shell.execute_reply": "2021-12-11T08:58:34.188745Z",
     "shell.execute_reply.started": "2021-12-11T08:13:13.796503Z"
    },
    "papermill": {
     "duration": 626.655399,
     "end_time": "2021-12-11T08:58:34.189580",
     "exception": false,
     "start_time": "2021-12-11T08:48:07.534181",
     "status": "completed"
    },
    "tags": []
   },
   "outputs": [
    {
     "name": "stdout",
     "output_type": "stream",
     "text": [
      "Epoch 1/20\n",
      "2527/2527 [==============================] - 52s 18ms/step - loss: 0.5535 - acc: 0.7159 - val_loss: 0.5217 - val_acc: 0.7377\n",
      "Epoch 2/20\n",
      "2527/2527 [==============================] - 44s 17ms/step - loss: 0.5098 - acc: 0.7480 - val_loss: 0.5110 - val_acc: 0.7405\n",
      "Epoch 3/20\n",
      "2527/2527 [==============================] - 49s 19ms/step - loss: 0.4910 - acc: 0.7593 - val_loss: 0.4943 - val_acc: 0.7577\n",
      "Epoch 4/20\n",
      "2527/2527 [==============================] - 46s 18ms/step - loss: 0.4760 - acc: 0.7689 - val_loss: 0.4895 - val_acc: 0.7579\n",
      "Epoch 5/20\n",
      "2527/2527 [==============================] - 45s 18ms/step - loss: 0.4652 - acc: 0.7758 - val_loss: 0.4776 - val_acc: 0.7690\n",
      "Epoch 6/20\n",
      "2527/2527 [==============================] - 52s 20ms/step - loss: 0.4544 - acc: 0.7815 - val_loss: 0.4719 - val_acc: 0.7698\n",
      "Epoch 7/20\n",
      "2527/2527 [==============================] - 45s 18ms/step - loss: 0.4450 - acc: 0.7875 - val_loss: 0.4692 - val_acc: 0.7721\n",
      "Epoch 8/20\n",
      "2527/2527 [==============================] - 46s 18ms/step - loss: 0.4364 - acc: 0.7922 - val_loss: 0.4672 - val_acc: 0.7759\n",
      "Epoch 9/20\n",
      "2527/2527 [==============================] - 51s 20ms/step - loss: 0.4280 - acc: 0.7983 - val_loss: 0.4736 - val_acc: 0.7743\n",
      "Epoch 10/20\n",
      "2527/2527 [==============================] - 47s 18ms/step - loss: 0.4213 - acc: 0.8021 - val_loss: 0.4693 - val_acc: 0.7775\n",
      "Epoch 11/20\n",
      "2527/2527 [==============================] - 46s 18ms/step - loss: 0.4136 - acc: 0.8064 - val_loss: 0.4712 - val_acc: 0.7798\n",
      "Epoch 12/20\n",
      "2527/2527 [==============================] - 52s 21ms/step - loss: 0.4063 - acc: 0.8099 - val_loss: 0.4741 - val_acc: 0.7771\n",
      "Epoch 13/20\n",
      "2527/2527 [==============================] - 45s 18ms/step - loss: 0.4011 - acc: 0.8131 - val_loss: 0.4729 - val_acc: 0.7802\n"
     ]
    }
   ],
   "source": [
    "callback = tf.keras.callbacks.EarlyStopping(monitor='val_loss', patience=5, restore_best_weights=True)\n",
    "model.compile(\n",
    "    loss=\"binary_crossentropy\", optimizer=\"rmsprop\", metrics=[\"acc\"]\n",
    ")\n",
    "history = model.fit([train_question1,train_question2], train_label, \n",
    "                    batch_size=128, epochs=20, callbacks=[callback],\n",
    "                    validation_data=([val_question1, val_question2], val_label))"
   ]
  },
  {
   "cell_type": "code",
   "execution_count": null,
   "id": "14c18987",
   "metadata": {
    "papermill": {
     "duration": 8.369988,
     "end_time": "2021-12-11T08:58:50.931714",
     "exception": false,
     "start_time": "2021-12-11T08:58:42.561726",
     "status": "completed"
    },
    "tags": []
   },
   "outputs": [],
   "source": []
  }
 ],
 "metadata": {
  "kernelspec": {
   "display_name": "Python 3",
   "language": "python",
   "name": "python3"
  },
  "language_info": {
   "codemirror_mode": {
    "name": "ipython",
    "version": 3
   },
   "file_extension": ".py",
   "mimetype": "text/x-python",
   "name": "python",
   "nbconvert_exporter": "python",
   "pygments_lexer": "ipython3",
   "version": "3.7.12"
  },
  "papermill": {
   "default_parameters": {},
   "duration": 2621.81614,
   "end_time": "2021-12-11T08:59:02.783094",
   "environment_variables": {},
   "exception": null,
   "input_path": "__notebook__.ipynb",
   "output_path": "__notebook__.ipynb",
   "parameters": {},
   "start_time": "2021-12-11T08:15:20.966954",
   "version": "2.3.3"
  }
 },
 "nbformat": 4,
 "nbformat_minor": 5
}
